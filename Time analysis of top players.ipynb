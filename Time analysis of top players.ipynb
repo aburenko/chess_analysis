{
 "cells": [
  {
   "cell_type": "code",
   "execution_count": 4,
   "metadata": {
    "scrolled": true
   },
   "outputs": [],
   "source": [
    "def getList(dict): \n",
    "    return dict.keys() \n",
    "\n",
    "from chessdotcom import get_leaderboards\n",
    "\n",
    "data = get_leaderboards()\n",
    "# getList(data.json) # in case another type is needed\n",
    "top_50_rapid_playes = [x[\"username\"] for x in data.json[\"live_rapid\"]]"
   ]
  },
  {
   "cell_type": "code",
   "execution_count": 5,
   "metadata": {},
   "outputs": [
    {
     "name": "stdout",
     "output_type": "stream",
     "text": [
      "['ChessBrah', 'SeanWinshand', 'GMSrinath', 'lachesisQ', 'dretch', 'LyonBeast', 'penguingm1', 'Sibelephant', 'Aravindhchess1999', 'BogdanDeac', 'Yaacovn', 'Chefshouse', 'barzed', 'MagnusCarlsen', 'HuntressesofArtemis', 'ChristopherYoo', 'Hikaru', 'Elshan1985', 'GigaQuparadze', 'AnishGiri', 'MiroVlasenko', 'Grischuk', 'Last7Samurai', 'RoelandPruijssers', 'AlexanderL', 'TenisMaster', 'GutovAndrey', 'praveenb2002', 'cruise999', 'Atalik', 'Malev212', 'LOVEVAE', 'SpeedofLight0', 'ChessLover0108', 'Zkid', 'bangchess21', 'kleinebeer98', 'kaumandur01', 'jefferyx', 'BeanScreen', 'howitzer14', 'PaulVelten', 'GOGIEFF', 'chesspanda123', 'Y0ung_Capablanca', 'Sanan_Sjugirov', 'Twitch_ElhamBlitz05', 'KNVB', 'Bladel', 'attack2mateU']\n"
     ]
    }
   ],
   "source": [
    "print(top_50_rapid_playes)"
   ]
  },
  {
   "cell_type": "code",
   "execution_count": 13,
   "metadata": {
    "scrolled": true
   },
   "outputs": [
    {
     "name": "stdout",
     "output_type": "stream",
     "text": [
      "{'games': [{'url': 'https://www.chess.com/game/daily/286999128', 'pgn': '[Event \"Let\\'s Play!\"]\\n[Site \"Chess.com\"]\\n[Date \"2020.11.14\"]\\n[Round \"-\"]\\n[White \"Last7Samurai\"]\\n[Black \"jrod44thatcher\"]\\n[Result \"1-0\"]\\n[CurrentPosition \"8/pB5p/5kp1/6p1/8/P3P1P1/1P1R1P1P/6K1 b - - 0 32\"]\\n[Timezone \"UTC\"]\\n[ECO \"A17\"]\\n[ECOUrl \"https://www.chess.com/openings/English-Opening-Anglo-Indian-Hedgehog-System-3.Nf3\"]\\n[UTCDate \"2020.11.14\"]\\n[UTCTime \"15:42:37\"]\\n[WhiteElo \"2207\"]\\n[BlackElo \"1603\"]\\n[TimeControl \"1/259200\"]\\n[Termination \"Last7Samurai won by resignation\"]\\n[StartTime \"15:42:37\"]\\n[EndDate \"2021.01.04\"]\\n[EndTime \"04:47:30\"]\\n[Link \"https://www.chess.com/game/daily/286999128\"]\\n\\n1. c4 {[%clk 71:59:57]} 1... e6 {[%clk 68:30:47]} 2. Nf3 {[%clk 71:26:08]} 2... Nf6 {[%clk 71:27:27]} 3. Nc3 {[%clk 71:05:04]} 3... c5 {[%clk 63:44:41]} 4. g3 {[%clk 61:55:21]} 4... Nc6 {[%clk 24:50:26]} 5. Bg2 {[%clk 61:35:14]} 5... d5 {[%clk 71:59:47]} 6. cxd5 {[%clk 71:59:28]} 6... exd5 {[%clk 51:29:40]} 7. d4 {[%clk 68:54:10]} 7... Be7 {[%clk 29:19:57]} 8. O-O {[%clk 7:39:09]} 8... O-O {[%clk 59:47:28]} 9. dxc5 {[%clk 69:35:28]} 9... Bxc5 {[%clk 31:37:50]} 10. Bg5 {[%clk 7:12:37]} 10... d4 {[%clk 64:48:05]} 11. Bxf6 {[%clk 71:38:38]} 11... Qxf6 {[%clk 32:37:53]} 12. Ne4 {[%clk 71:43:53]} 12... Qe7 {[%clk 70:29:41]} 13. Nxc5 {[%clk 71:42:18]} 13... Qxc5 {[%clk 65:12:04]} 14. Rc1 {[%clk 71:42:54]} 14... Qd6 {[%clk 48:15:11]} 15. Qd2 {[%clk 71:43:59]} 15... Bg4 {[%clk 56:55:06]} 16. Rfd1 {[%clk 33:13:22]} 16... Rad8 {[%clk 55:19:53]} 17. a3 {[%clk 48:27:10]} 17... Bxf3 {[%clk 26:15:49]} 18. Bxf3 {[%clk 32:29:27]} 18... Ne5 {[%clk 45:48:00]} 19. Bxb7 {[%clk 71:18:37]} 19... Rd7 {[%clk 6:49:25]} 20. Bg2 {[%clk 7:36:13]} 20... Re8 {[%clk 33:21:01]} 21. Qf4 {[%clk 66:12:59]} 21... Qg6 {[%clk 29:06:10]} 22. Qxe5 {[%clk 71:44:31]} 22... f6 {[%clk 5:48:44]} 23. Qb5 {[%clk 71:42:32]} 23... Red8 {[%clk 53:06:52]} 24. Rd2 {[%clk 71:44:13]} 24... Qg5 {[%clk 70:46:04]} 25. Qxg5 {[%clk 71:42:33]} 25... fxg5 {[%clk 71:59:42]} 26. Rcd1 {[%clk 67:35:12]} 26... Kf7 {[%clk 42:53:11]} 27. e3 {[%clk 71:43:33]} 27... d3 {[%clk 59:32:17]} 28. Bf1 {[%clk 12:32:30]} 28... Rb7 {[%clk 25:21:24]} 29. Bxd3 {[%clk 69:00:14]} 29... Kf6 {[%clk 45:42:13]} 30. Be4 {[%clk 71:42:11]} 30... Rxd2 {[%clk 52:05:13]} 31. Rxd2 {[%clk 71:40:07]} 31... g6 {[%clk 37:33:22]} 32. Bxb7 {[%clk 71:44:28]} 1-0', 'time_control': '1/259200', 'end_time': 1609735650, 'rated': True, 'fen': '8/pB5p/5kp1/6p1/8/P3P1P1/1P1R1P1P/6K1 b - - 0 32', 'start_time': 1605368557, 'time_class': 'daily', 'rules': 'chess', 'white': {'rating': 2207, 'result': 'win', '@id': 'https://api.chess.com/pub/player/last7samurai', 'username': 'Last7Samurai'}, 'black': {'rating': 1603, 'result': 'resigned', '@id': 'https://api.chess.com/pub/player/jrod44thatcher', 'username': 'jrod44thatcher'}}, {'url': 'https://www.chess.com/live/game/6142107304', 'pgn': '[Event \"Live Chess\"]\\n[Site \"Chess.com\"]\\n[Date \"2021.01.04\"]\\n[Round \"-\"]\\n[White \"SelfishShellfish\"]\\n[Black \"Last7Samurai\"]\\n[Result \"0-1\"]\\n[CurrentPosition \"8/8/3k3P/8/8/6K1/8/q7 w - -\"]\\n[Timezone \"UTC\"]\\n[ECO \"C70\"]\\n[ECOUrl \"https://www.chess.com/openings/Ruy-Lopez-Opening-Morphy-Defense-Deferred-Fianchetto-Defense\"]\\n[UTCDate \"2021.01.04\"]\\n[UTCTime \"17:05:29\"]\\n[WhiteElo \"2394\"]\\n[BlackElo \"2824\"]\\n[TimeControl \"1500+5\"]\\n[Termination \"Last7Samurai won by resignation\"]\\n[StartTime \"17:05:29\"]\\n[EndDate \"2021.01.04\"]\\n[EndTime \"18:02:38\"]\\n[Link \"https://www.chess.com/live/game/6142107304\"]\\n\\n1. e4 {[%clk 0:25:02.6]} 1... e5 {[%clk 0:24:44.3]} 2. Nf3 {[%clk 0:25:04.2]} 2... Nc6 {[%clk 0:24:47.2]} 3. Bb5 {[%clk 0:24:53.3]} 3... a6 {[%clk 0:24:49.4]} 4. Ba4 {[%clk 0:24:56.3]} 4... g6 {[%clk 0:24:53.3]} 5. c3 {[%clk 0:24:51.8]} 5... d6 {[%clk 0:24:56.3]} 6. d4 {[%clk 0:24:52.8]} 6... Bd7 {[%clk 0:24:59.9]} 7. O-O {[%clk 0:24:52.3]} 7... Bg7 {[%clk 0:25:03.7]} 8. Re1 {[%clk 0:23:51.2]} 8... Nf6 {[%clk 0:25:04.2]} 9. Nbd2 {[%clk 0:23:45.2]} 9... O-O {[%clk 0:25:06.5]} 10. h3 {[%clk 0:23:36.2]} 10... Re8 {[%clk 0:25:02.8]} 11. d5 {[%clk 0:23:29.5]} 11... Ne7 {[%clk 0:25:06.3]} 12. b4 {[%clk 0:23:26.7]} 12... Bxa4 {[%clk 0:24:25.4]} 13. Qxa4 {[%clk 0:23:29.3]} 13... c6 {[%clk 0:24:28.7]} 14. dxc6 {[%clk 0:22:14.5]} 14... Nxc6 {[%clk 0:24:28.3]} 15. c4 {[%clk 0:22:15.5]} 15... Qc7 {[%clk 0:23:23.3]} 16. Qb3 {[%clk 0:21:36]} 16... Rac8 {[%clk 0:22:22]} 17. a4 {[%clk 0:20:34.1]} 17... Nh5 {[%clk 0:21:50.4]} 18. Ba3 {[%clk 0:19:43.7]} 18... Nf4 {[%clk 0:21:44.9]} 19. Rac1 {[%clk 0:18:07]} 19... Ne6 {[%clk 0:21:15]} 20. Nf1 {[%clk 0:16:42.5]} 20... Ncd4 {[%clk 0:20:08.4]} 21. Qd1 {[%clk 0:14:47.5]} 21... Qd7 {[%clk 0:19:01.3]} 22. N3d2 {[%clk 0:12:08.5]} 22... Nf4 {[%clk 0:18:39.8]} 23. Rc3 {[%clk 0:11:38.5]} 23... d5 {[%clk 0:18:23.6]} 24. exd5 {[%clk 0:08:57.6]} 24... Nxd5 {[%clk 0:18:08.4]} 25. Rc1 {[%clk 0:08:59.8]} 25... Nf4 {[%clk 0:18:02.6]} 26. Ne4 {[%clk 0:08:57.1]} 26... Nde2+ {[%clk 0:17:32.9]} 27. Kh2 {[%clk 0:08:13.8]} 27... Nd4 {[%clk 0:16:53.3]} 28. Ne3 {[%clk 0:07:54.6]} 28... f5 {[%clk 0:15:56.3]} 29. Nc5 {[%clk 0:06:43.8]} 29... Qf7 {[%clk 0:15:51.7]} 30. a5 {[%clk 0:06:02.3]} 30... Red8 {[%clk 0:14:40.3]} 31. Bb2 {[%clk 0:04:13.5]} 31... e4 {[%clk 0:14:16.9]} 32. Bxd4 {[%clk 0:03:29.8]} 32... Bxd4 {[%clk 0:14:16.6]} 33. Qb3 {[%clk 0:03:33.2]} 33... Bxc5 {[%clk 0:13:43.4]} 34. bxc5 {[%clk 0:03:37]} 34... Nd3 {[%clk 0:13:46.6]} 35. Nd5 {[%clk 0:03:38]} 35... Rxc5 {[%clk 0:13:17.1]} 36. Rcd1 {[%clk 0:03:08.9]} 36... Nxe1 {[%clk 0:12:53.4]} 37. Rxe1 {[%clk 0:03:06.8]} 37... Rdxd5 {[%clk 0:12:44.6]} 38. cxd5 {[%clk 0:03:07.2]} 38... Qxd5 {[%clk 0:12:47.8]} 39. Qa4 {[%clk 0:02:51.2]} 39... Qe5+ {[%clk 0:12:42.1]} 40. Kg1 {[%clk 0:02:47.6]} 40... Rxa5 {[%clk 0:12:39]} 41. Qd7 {[%clk 0:02:51.1]} 41... Ra1 {[%clk 0:12:12.6]} 42. Qc8+ {[%clk 0:02:48.4]} 42... Kg7 {[%clk 0:12:14.1]} 43. Qxb7+ {[%clk 0:02:52.1]} 43... Kh6 {[%clk 0:12:17.7]} 44. Rxa1 {[%clk 0:02:47.1]} 44... Qxa1+ {[%clk 0:12:20.7]} 45. Kh2 {[%clk 0:02:51.2]} 45... Qe5+ {[%clk 0:11:59.9]} 46. g3 {[%clk 0:02:54.9]} 46... a5 {[%clk 0:11:42.9]} 47. Qb3 {[%clk 0:02:54.8]} 47... Qd4 {[%clk 0:11:37.5]} 48. Kg2 {[%clk 0:02:56.6]} 48... Qd3 {[%clk 0:11:22.3]} 49. Qb8 {[%clk 0:02:59.5]} 49... Qf3+ {[%clk 0:11:21.8]} 50. Kg1 {[%clk 0:03:02.2]} 50... e3 {[%clk 0:10:54.9]} 51. fxe3 {[%clk 0:03:01]} 51... Qxe3+ {[%clk 0:10:58.2]} 52. Kg2 {[%clk 0:03:00.3]} 52... Qd2+ {[%clk 0:10:06.9]} 53. Kg1 {[%clk 0:03:02.6]} 53... Qb4 {[%clk 0:09:53.1]} 54. Qd8 {[%clk 0:03:00.1]} 54... a4 {[%clk 0:09:46.8]} 55. h4 {[%clk 0:02:34.9]} 55... a3 {[%clk 0:09:40.7]} 56. Qg5+ {[%clk 0:02:34.2]} 56... Kg7 {[%clk 0:09:43.7]} 57. Qe3 {[%clk 0:02:30.3]} 57... Qb1+ {[%clk 0:09:29.8]} 58. Kh2 {[%clk 0:02:32.4]} 58... Qb2+ {[%clk 0:08:53.3]} 59. Kh3 {[%clk 0:02:35.9]} 59... Kf7 {[%clk 0:08:21.5]} 60. Qa7+ {[%clk 0:02:29.5]} 60... Ke6 {[%clk 0:08:23.9]} 61. Qxh7 {[%clk 0:02:13.6]} 61... a2 {[%clk 0:07:13.7]} 62. Qxg6+ {[%clk 0:02:08.8]} 62... Ke7 {[%clk 0:07:09.4]} 63. Qg5+ {[%clk 0:01:45]} 63... Qf6 {[%clk 0:06:42.3]} 64. Qe3+ {[%clk 0:01:39.8]} 64... Qe6 {[%clk 0:06:45.2]} 65. Qa7+ {[%clk 0:01:40.1]} 65... Kf6 {[%clk 0:06:43.6]} 66. h5 {[%clk 0:00:34.6]} 66... f4+ {[%clk 0:05:57.7]} 67. Kh4 {[%clk 0:00:37.5]} 67... fxg3 {[%clk 0:05:57]} 68. h6 {[%clk 0:00:18.5]} 68... Qe4+ {[%clk 0:05:49.9]} 69. Kh3 {[%clk 0:00:06.3]} 69... Qh1+ {[%clk 0:05:44.8]} 70. Kxg3 {[%clk 0:00:07.2]} 70... a1=Q {[%clk 0:05:45.1]} 71. Qg7+ {[%clk 0:00:10.8]} 71... Ke6 {[%clk 0:05:46.1]} 72. Qg8+ {[%clk 0:00:14.2]} 72... Kd6 {[%clk 0:05:41.2]} 73. Qd8+ {[%clk 0:00:16.7]} 73... Kc5 {[%clk 0:05:41.4]} 74. Qc7+ {[%clk 0:00:18.8]} 74... Qc6 {[%clk 0:05:42]} 75. Qe7+ {[%clk 0:00:19.3]} 75... Qd6+ {[%clk 0:05:45.8]} 76. Qxd6+ {[%clk 0:00:23.5]} 76... Kxd6 {[%clk 0:05:49.7]} 0-1', 'time_control': '1500+5', 'end_time': 1609783358, 'rated': True, 'fen': '8/8/3k3P/8/8/6K1/8/q7 w - -', 'time_class': 'rapid', 'rules': 'chess', 'white': {'rating': 2394, 'result': 'resigned', '@id': 'https://api.chess.com/pub/player/selfishshellfish', 'username': 'SelfishShellfish'}, 'black': {'rating': 2824, 'result': 'win', '@id': 'https://api.chess.com/pub/player/last7samurai', 'username': 'Last7Samurai'}}, {'url': 'https://www.chess.com/live/game/6143612158', 'pgn': '[Event \"Live Chess\"]\\n[Site \"Chess.com\"]\\n[Date \"2021.01.04\"]\\n[Round \"-\"]\\n[White \"Last7Samurai\"]\\n[Black \"OverFrost\"]\\n[Result \"1-0\"]\\n[CurrentPosition \"8/pp6/6R1/2k2Pp1/6P1/1P6/1KP5/5r2 b - -\"]\\n[Timezone \"UTC\"]\\n[ECO \"A45\"]\\n[ECOUrl \"https://www.chess.com/openings/Trompowsky-Attack-2...c5\"]\\n[UTCDate \"2021.01.04\"]\\n[UTCTime \"20:02:16\"]\\n[WhiteElo \"2824\"]\\n[BlackElo \"1591\"]\\n[TimeControl \"1500+5\"]\\n[Termination \"Last7Samurai won by resignation\"]\\n[StartTime \"20:02:16\"]\\n[EndDate \"2021.01.04\"]\\n[EndTime \"20:42:37\"]\\n[Link \"https://www.chess.com/live/game/6143612158\"]\\n\\n1. d4 {[%clk 0:25:04.4]} 1... Nf6 {[%clk 0:25:02.9]} 2. Bg5 {[%clk 0:25:07.3]} 2... c5 {[%clk 0:25:02.1]} 3. Nc3 {[%clk 0:25:09.1]} 3... cxd4 {[%clk 0:23:51]} 4. Qxd4 {[%clk 0:25:11.3]} 4... Nc6 {[%clk 0:23:54.7]} 5. Qh4 {[%clk 0:25:13.7]} 5... e6 {[%clk 0:23:18.9]} 6. O-O-O {[%clk 0:25:10.3]} 6... Be7 {[%clk 0:23:20.1]} 7. e4 {[%clk 0:24:56.4]} 7... h6 {[%clk 0:22:01.5]} 8. f4 {[%clk 0:23:14.8]} 8... Rg8 {[%clk 0:18:53.2]} 9. Bxf6 {[%clk 0:22:54.7]} 9... Bxf6 {[%clk 0:18:58.1]} 10. Qg3 {[%clk 0:22:58.2]} 10... Bxc3 {[%clk 0:16:00.3]} 11. Qxc3 {[%clk 0:23:03.1]} 11... d6 {[%clk 0:15:53.5]} 12. Qa3 {[%clk 0:22:29.3]} 12... Bd7 {[%clk 0:14:11]} 13. Qxd6 {[%clk 0:22:21.2]} 13... Qe7 {[%clk 0:13:38.4]} 14. Qd2 {[%clk 0:21:33.4]} 14... O-O-O {[%clk 0:13:36.9]} 15. Nf3 {[%clk 0:21:05.1]} 15... g5 {[%clk 0:13:01.5]} 16. g3 {[%clk 0:19:30.8]} 16... e5 {[%clk 0:12:42.8]} 17. Bd3 {[%clk 0:18:11.4]} 17... Bg4 {[%clk 0:12:18]} 18. Rdf1 {[%clk 0:17:43.6]} 18... f5 {[%clk 0:11:19.9]} 19. Nxe5 {[%clk 0:17:13.7]} 19... Nxe5 {[%clk 0:09:56.1]} 20. fxe5 {[%clk 0:17:14.4]} 20... Qxe5 {[%clk 0:08:59.2]} 21. exf5 {[%clk 0:17:07.7]} 21... Rgf8 {[%clk 0:08:53.7]} 22. Qf2 {[%clk 0:16:11.5]} 22... Kb8 {[%clk 0:08:23.7]} 23. h3 {[%clk 0:16:10.4]} 23... Bh5 {[%clk 0:08:25.7]} 24. g4 {[%clk 0:16:11.9]} 24... Bf7 {[%clk 0:08:29.4]} 25. Qh2 {[%clk 0:15:44.8]} 25... Qxh2 {[%clk 0:08:06.2]} 26. Rxh2 {[%clk 0:15:47]} 26... Bxa2 {[%clk 0:08:10]} 27. Re1 {[%clk 0:15:37.6]} 27... Bd5 {[%clk 0:07:44.9]} 28. Rhe2 {[%clk 0:15:32.3]} 28... Kc7 {[%clk 0:07:01.1]} 29. Re5 {[%clk 0:14:43.4]} 29... Rf6 {[%clk 0:06:05.6]} 30. Be4 {[%clk 0:14:38.5]} 30... Bxe4 {[%clk 0:04:47.9]} 31. R5xe4 {[%clk 0:14:43.4]} 31... h5 {[%clk 0:04:29.6]} 32. Rc4+ {[%clk 0:14:11.5]} 32... Kb6 {[%clk 0:04:24.5]} 33. Re7 {[%clk 0:14:06.9]} 33... hxg4 {[%clk 0:04:07]} 34. hxg4 {[%clk 0:14:09.1]} 34... Rfd6 {[%clk 0:03:37.3]} 35. b3 {[%clk 0:14:08.4]} 35... R8d7 {[%clk 0:03:36.5]} 36. Rxd7 {[%clk 0:13:19.5]} 36... Rxd7 {[%clk 0:03:41.4]} 37. Kb2 {[%clk 0:13:18.3]} 37... Rd1 {[%clk 0:03:38.1]} 38. Re4 {[%clk 0:13:02.5]} 38... Rf1 {[%clk 0:03:32.2]} 39. Re6+ {[%clk 0:13:04.1]} 39... Kc5 {[%clk 0:03:30.9]} 40. Rg6 {[%clk 0:13:07.5]} 1-0', 'time_control': '1500+5', 'end_time': 1609792957, 'rated': True, 'fen': '8/pp6/6R1/2k2Pp1/6P1/1P6/1KP5/5r2 b - -', 'time_class': 'rapid', 'rules': 'chess', 'white': {'rating': 2824, 'result': 'win', '@id': 'https://api.chess.com/pub/player/last7samurai', 'username': 'Last7Samurai'}, 'black': {'rating': 1591, 'result': 'resigned', '@id': 'https://api.chess.com/pub/player/overfrost', 'username': 'OverFrost'}}, {'url': 'https://www.chess.com/live/game/6145055171', 'pgn': '[Event \"Live Chess\"]\\n[Site \"Chess.com\"]\\n[Date \"2021.01.04\"]\\n[Round \"-\"]\\n[White \"chessasuke\"]\\n[Black \"Last7Samurai\"]\\n[Result \"1/2-1/2\"]\\n[CurrentPosition \"6k1/1p1n1pp1/2p4p/3p4/3Pn3/1P2PN1P/4KPP1/4B3 w - -\"]\\n[Timezone \"UTC\"]\\n[ECO \"D12\"]\\n[ECOUrl \"https://www.chess.com/openings/Slav-Defense-Modern-Quiet-Schallopp-Defense...6.Bd3-Bxd3-7.Qxd3-Nbd7\"]\\n[UTCDate \"2021.01.04\"]\\n[UTCTime \"23:00:52\"]\\n[WhiteElo \"2495\"]\\n[BlackElo \"2798\"]\\n[TimeControl \"1500+5\"]\\n[Termination \"Game drawn by agreement\"]\\n[StartTime \"23:00:52\"]\\n[EndDate \"2021.01.04\"]\\n[EndTime \"23:20:23\"]\\n[Link \"https://www.chess.com/live/game/6145055171\"]\\n\\n1. d4 {[%clk 0:25:02.8]} 1... d5 {[%clk 0:25:03.1]} 2. c4 {[%clk 0:25:02.4]} 2... c6 {[%clk 0:25:06.9]} 3. Nf3 {[%clk 0:25:03.9]} 3... Nf6 {[%clk 0:25:10.7]} 4. e3 {[%clk 0:25:05.2]} 4... Bf5 {[%clk 0:25:14.1]} 5. Nc3 {[%clk 0:25:05.1]} 5... e6 {[%clk 0:25:17.9]} 6. Bd3 {[%clk 0:24:22.7]} 6... Bxd3 {[%clk 0:25:20.7]} 7. Qxd3 {[%clk 0:24:27.6]} 7... Nbd7 {[%clk 0:25:21.5]} 8. O-O {[%clk 0:24:27.3]} 8... Bb4 {[%clk 0:25:22.8]} 9. Bd2 {[%clk 0:24:26.1]} 9... Bxc3 {[%clk 0:25:22.9]} 10. Bxc3 {[%clk 0:24:28.6]} 10... O-O {[%clk 0:25:26.4]} 11. b3 {[%clk 0:22:51]} 11... Re8 {[%clk 0:25:25]} 12. Rfd1 {[%clk 0:22:44.1]} 12... Ne4 {[%clk 0:25:11.1]} 13. Bb4 {[%clk 0:22:16.2]} 13... a5 {[%clk 0:24:56.3]} 14. Be1 {[%clk 0:21:13.8]} 14... a4 {[%clk 0:24:54.5]} 15. Qc2 {[%clk 0:17:35.6]} 15... axb3 {[%clk 0:24:23.9]} 16. axb3 {[%clk 0:17:37.6]} 16... Qb6 {[%clk 0:24:17.2]} 17. Ra2 {[%clk 0:17:12.7]} 17... Ra6 {[%clk 0:24:05.6]} 18. Rda1 {[%clk 0:15:22.5]} 18... Rea8 {[%clk 0:24:06.6]} 19. h3 {[%clk 0:15:21.5]} 19... h6 {[%clk 0:23:36.2]} 20. Kf1 {[%clk 0:14:41.2]} 20... Rxa2 {[%clk 0:23:29.2]} 21. Rxa2 {[%clk 0:14:43.7]} 21... Ra6 {[%clk 0:23:32.4]} 22. Qe2 {[%clk 0:13:13.3]} 22... Qa7 {[%clk 0:22:13.1]} 23. Rxa6 {[%clk 0:13:13.8]} 23... Qxa6 {[%clk 0:22:17.1]} 24. cxd5 {[%clk 0:13:05]} 24... Qxe2+ {[%clk 0:22:17.7]} 25. Kxe2 {[%clk 0:13:07.5]} 25... exd5 {[%clk 0:22:19.6]} 1/2-1/2', 'time_control': '1500+5', 'end_time': 1609802423, 'rated': True, 'fen': '6k1/1p1n1pp1/2p4p/3p4/3Pn3/1P2PN1P/4KPP1/4B3 w - -', 'time_class': 'rapid', 'rules': 'chess', 'white': {'rating': 2495, 'result': 'agreed', '@id': 'https://api.chess.com/pub/player/chessasuke', 'username': 'chessasuke'}, 'black': {'rating': 2798, 'result': 'agreed', '@id': 'https://api.chess.com/pub/player/last7samurai', 'username': 'Last7Samurai'}}, {'url': 'https://www.chess.com/live/game/6151297552', 'pgn': '[Event \"Live Chess\"]\\n[Site \"Chess.com\"]\\n[Date \"2021.01.05\"]\\n[Round \"-\"]\\n[White \"Last7Samurai\"]\\n[Black \"plumalka\"]\\n[Result \"1-0\"]\\n[CurrentPosition \"r4r2/nb3pk1/6p1/1p2PQ2/p3p3/P3P1R1/1P1N2PP/R5K1 b - -\"]\\n[Timezone \"UTC\"]\\n[ECO \"D00\"]\\n[ECOUrl \"https://www.chess.com/openings/Queens-Pawn-Opening-Accelerated-London-System\"]\\n[UTCDate \"2021.01.05\"]\\n[UTCTime \"17:01:53\"]\\n[WhiteElo \"2801\"]\\n[BlackElo \"2195\"]\\n[TimeControl \"1500+5\"]\\n[Termination \"Last7Samurai won by resignation\"]\\n[StartTime \"17:01:53\"]\\n[EndDate \"2021.01.05\"]\\n[EndTime \"17:26:48\"]\\n[Link \"https://www.chess.com/live/game/6151297552\"]\\n\\n1. d4 {[%clk 0:25:02.9]} 1... d5 {[%clk 0:25:01.2]} 2. Bf4 {[%clk 0:24:50.9]} 2... Nf6 {[%clk 0:24:54.9]} 3. e3 {[%clk 0:24:53.9]} 3... e6 {[%clk 0:24:51.9]} 4. Nd2 {[%clk 0:24:55.3]} 4... c5 {[%clk 0:24:51.1]} 5. c3 {[%clk 0:24:54.2]} 5... Nc6 {[%clk 0:24:38.4]} 6. Bd3 {[%clk 0:24:53.7]} 6... Bd6 {[%clk 0:24:30.8]} 7. Bxd6 {[%clk 0:24:55.2]} 7... Qxd6 {[%clk 0:24:31.4]} 8. f4 {[%clk 0:24:59.5]} 8... cxd4 {[%clk 0:24:04]} 9. cxd4 {[%clk 0:25:01]} 9... b6 {[%clk 0:23:33.6]} 10. a3 {[%clk 0:23:57.9]} 10... a5 {[%clk 0:23:27.5]} 11. Qe2 {[%clk 0:23:54.4]} 11... a4 {[%clk 0:23:01.6]} 12. Ngf3 {[%clk 0:23:45.8]} 12... O-O {[%clk 0:22:47.6]} 13. O-O {[%clk 0:23:33.1]} 13... Na7 {[%clk 0:22:05.2]} 14. Ne5 {[%clk 0:22:06.8]} 14... b5 {[%clk 0:21:08]} 15. Rf3 {[%clk 0:21:08.9]} 15... Bb7 {[%clk 0:19:56.4]} 16. Rh3 {[%clk 0:20:21.7]} 16... g6 {[%clk 0:19:39.9]} 17. Qf2 {[%clk 0:19:07.7]} 17... Kg7 {[%clk 0:19:11.2]} 18. Qh4 {[%clk 0:18:58.3]} 18... h5 {[%clk 0:17:52]} 19. Rg3 {[%clk 0:18:48.8]} 19... Ne4 {[%clk 0:16:57.3]} 20. Bxe4 {[%clk 0:18:40.9]} 20... dxe4 {[%clk 0:16:46.4]} 21. Qxh5 {[%clk 0:18:43.2]} 21... Qd5 {[%clk 0:12:23.6]} 22. f5 {[%clk 0:18:39.6]} 22... Qxe5 {[%clk 0:11:00.7]} 23. dxe5 {[%clk 0:18:38.6]} 23... exf5 {[%clk 0:11:03.9]} 24. Qxf5 {[%clk 0:18:36.2]} 1-0', 'time_control': '1500+5', 'end_time': 1609867608, 'rated': True, 'fen': 'r4r2/nb3pk1/6p1/1p2PQ2/p3p3/P3P1R1/1P1N2PP/R5K1 b - -', 'time_class': 'rapid', 'rules': 'chess', 'white': {'rating': 2801, 'result': 'win', '@id': 'https://api.chess.com/pub/player/last7samurai', 'username': 'Last7Samurai'}, 'black': {'rating': 2195, 'result': 'resigned', '@id': 'https://api.chess.com/pub/player/plumalka', 'username': 'plumalka'}}, {'url': 'https://www.chess.com/live/game/6152824237', 'pgn': '[Event \"Live Chess\"]\\n[Site \"Chess.com\"]\\n[Date \"2021.01.05\"]\\n[Round \"-\"]\\n[White \"ruifeng\"]\\n[Black \"Last7Samurai\"]\\n[Result \"1-0\"]\\n[CurrentPosition \"r2q3k/1pp2Bb1/p7/5p1Q/8/3P3P/5PP1/6K1 b - -\"]\\n[Timezone \"UTC\"]\\n[ECO \"C53\"]\\n[ECOUrl \"https://www.chess.com/openings/Giuoco-Piano-Game-Main-Line-Giuoco-Pianissimo-Variation-5...a6-6.Bb3\"]\\n[UTCDate \"2021.01.05\"]\\n[UTCTime \"20:00:36\"]\\n[WhiteElo \"2474\"]\\n[BlackElo \"2737\"]\\n[TimeControl \"1500+5\"]\\n[Termination \"ruifeng won by resignation\"]\\n[StartTime \"20:00:36\"]\\n[EndDate \"2021.01.05\"]\\n[EndTime \"20:43:25\"]\\n[Link \"https://www.chess.com/live/game/6152824237\"]\\n\\n1. e4 {[%clk 0:25:04.8]} 1... e5 {[%clk 0:25:00.2]} 2. Nf3 {[%clk 0:25:07.4]} 2... Nc6 {[%clk 0:25:04]} 3. Bc4 {[%clk 0:25:10.6]} 3... Bc5 {[%clk 0:25:07.2]} 4. c3 {[%clk 0:25:13.6]} 4... Nf6 {[%clk 0:25:09.3]} 5. d3 {[%clk 0:25:17.7]} 5... a6 {[%clk 0:25:12.5]} 6. Bb3 {[%clk 0:25:19.7]} 6... d6 {[%clk 0:25:13]} 7. h3 {[%clk 0:25:17.6]} 7... h6 {[%clk 0:25:14.8]} 8. Nbd2 {[%clk 0:25:19.9]} 8... d5 {[%clk 0:24:07.3]} 9. exd5 {[%clk 0:25:12.9]} 9... Nxd5 {[%clk 0:24:07.7]} 10. Ne4 {[%clk 0:25:17.1]} 10... Ba7 {[%clk 0:23:25.8]} 11. O-O {[%clk 0:25:19]} 11... Be6 {[%clk 0:23:21.2]} 12. Re1 {[%clk 0:25:01.7]} 12... O-O {[%clk 0:23:00]} 13. Ng3 {[%clk 0:24:15.8]} 13... Re8 {[%clk 0:22:42.7]} 14. a4 {[%clk 0:21:19.2]} 14... Bb6 {[%clk 0:19:42.1]} 15. a5 {[%clk 0:18:44.5]} 15... Bxa5 {[%clk 0:17:14.7]} 16. Nxe5 {[%clk 0:18:37.7]} 16... Nxe5 {[%clk 0:15:55.5]} 17. Rxe5 {[%clk 0:17:31.2]} 17... Nxc3 {[%clk 0:15:21.9]} 18. bxc3 {[%clk 0:14:36.1]} 18... Bxc3 {[%clk 0:15:26.8]} 19. Rxe6 {[%clk 0:11:24.6]} 19... Rxe6 {[%clk 0:15:07.2]} 20. Bxe6 {[%clk 0:11:23.4]} 20... Bxa1 {[%clk 0:15:09]} 21. Ba2 {[%clk 0:10:50.2]} 21... Bd4 {[%clk 0:13:35.5]} 22. Qg4 {[%clk 0:04:52.7]} 22... Kh8 {[%clk 0:10:05.2]} 23. Nf5 {[%clk 0:04:25.7]} 23... Bf6 {[%clk 0:09:59.4]} 24. Bxh6 {[%clk 0:03:45.2]} 24... g6 {[%clk 0:08:26.1]} 25. Bxf7 {[%clk 0:03:24.9]} 25... gxf5 {[%clk 0:08:27.7]} 26. Bg7+ {[%clk 0:03:22]} 26... Bxg7 {[%clk 0:08:27.6]} 27. Qh5+ {[%clk 0:03:25.5]} 1-0', 'time_control': '1500+5', 'end_time': 1609879405, 'rated': True, 'fen': 'r2q3k/1pp2Bb1/p7/5p1Q/8/3P3P/5PP1/6K1 b - -', 'time_class': 'rapid', 'rules': 'chess', 'white': {'rating': 2474, 'result': 'win', '@id': 'https://api.chess.com/pub/player/ruifeng', 'username': 'ruifeng'}, 'black': {'rating': 2737, 'result': 'resigned', '@id': 'https://api.chess.com/pub/player/last7samurai', 'username': 'Last7Samurai'}}, {'url': 'https://www.chess.com/live/game/6154272792', 'pgn': '[Event \"Live Chess\"]\\n[Site \"Chess.com\"]\\n[Date \"2021.01.05\"]\\n[Round \"-\"]\\n[White \"Last7Samurai\"]\\n[Black \"OparinGrigoriy\"]\\n[Result \"1/2-1/2\"]\\n[CurrentPosition \"2r3k1/1b2qpp1/pp2p2p/3n4/PPNPp3/4P3/R2Q1PPP/5BK1 w - -\"]\\n[Timezone \"UTC\"]\\n[ECO \"A45\"]\\n[ECOUrl \"https://www.chess.com/openings/Trompowsky-Attack\"]\\n[UTCDate \"2021.01.05\"]\\n[UTCTime \"22:59:57\"]\\n[WhiteElo \"2714\"]\\n[BlackElo \"2468\"]\\n[TimeControl \"1500+5\"]\\n[Termination \"Game drawn by repetition\"]\\n[StartTime \"22:59:57\"]\\n[EndDate \"2021.01.05\"]\\n[EndTime \"23:30:02\"]\\n[Link \"https://www.chess.com/live/game/6154272792\"]\\n\\n1. d4 {[%clk 0:25:00]} 1... Nf6 {[%clk 0:25:00.6]} 2. Bg5 {[%clk 0:24:59.1]} 2... d5 {[%clk 0:25:04.4]} 3. Nd2 {[%clk 0:25:01]} 3... e6 {[%clk 0:25:08.4]} 4. e3 {[%clk 0:25:01.2]} 4... Nbd7 {[%clk 0:25:11.1]} 5. Ngf3 {[%clk 0:24:56.4]} 5... Be7 {[%clk 0:25:14.9]} 6. Bd3 {[%clk 0:24:54.1]} 6... b6 {[%clk 0:25:19]} 7. c3 {[%clk 0:24:36.9]} 7... Bb7 {[%clk 0:25:22.3]} 8. O-O {[%clk 0:24:26.3]} 8... O-O {[%clk 0:25:23.9]} 9. Qb1 {[%clk 0:23:42.1]} 9... h6 {[%clk 0:25:04.2]} 10. Bh4 {[%clk 0:23:40.1]} 10... c5 {[%clk 0:24:48.8]} 11. Re1 {[%clk 0:23:32.2]} 11... Rc8 {[%clk 0:22:03]} 12. a4 {[%clk 0:23:15.9]} 12... a6 {[%clk 0:21:34.5]} 13. b4 {[%clk 0:22:39.7]} 13... cxd4 {[%clk 0:19:26.9]} 14. cxd4 {[%clk 0:22:41.1]} 14... Rc3 {[%clk 0:19:30]} 15. Bf1 {[%clk 0:20:58.9]} 15... Ne4 {[%clk 0:16:28.4]} 16. Bxe7 {[%clk 0:20:17.5]} 16... Qxe7 {[%clk 0:16:31.8]} 17. Nxe4 {[%clk 0:17:52.3]} 17... dxe4 {[%clk 0:16:34.4]} 18. Nd2 {[%clk 0:17:56.7]} 18... Nf6 {[%clk 0:16:38.4]} 19. Nc4 {[%clk 0:17:44]} 19... Qc7 {[%clk 0:14:49]} 20. Rc1 {[%clk 0:17:26.9]} 20... Rxc1 {[%clk 0:14:50.8]} 21. Qxc1 {[%clk 0:17:31.8]} 21... Rc8 {[%clk 0:14:45.8]} 22. Qd2 {[%clk 0:17:06.6]} 22... Nd5 {[%clk 0:11:55.3]} 23. Ra2 {[%clk 0:14:38.8]} 23... Qe7 {[%clk 0:11:22.4]} 24. Rb2 {[%clk 0:14:15.2]} 24... Qd7 {[%clk 0:11:21]} 25. Ra2 {[%clk 0:13:20]} 25... Qe7 {[%clk 0:11:23.3]} 26. Rb2 {[%clk 0:13:22.1]} 26... Qd7 {[%clk 0:11:11.1]} 27. Ra2 {[%clk 0:13:25]} 27... Qe7 {[%clk 0:11:13.6]} 1/2-1/2', 'time_control': '1500+5', 'end_time': 1609889402, 'rated': True, 'fen': '2r3k1/1b2qpp1/pp2p2p/3n4/PPNPp3/4P3/R2Q1PPP/5BK1 w - -', 'time_class': 'rapid', 'rules': 'chess', 'white': {'rating': 2714, 'result': 'repetition', '@id': 'https://api.chess.com/pub/player/last7samurai', 'username': 'Last7Samurai'}, 'black': {'rating': 2468, 'result': 'repetition', '@id': 'https://api.chess.com/pub/player/oparingrigoriy', 'username': 'OparinGrigoriy'}}, {'url': 'https://www.chess.com/live/game/6160464937', 'pgn': '[Event \"Live Chess\"]\\n[Site \"Chess.com\"]\\n[Date \"2021.01.06\"]\\n[Round \"-\"]\\n[White \"Last7Samurai\"]\\n[Black \"jjosu\"]\\n[Result \"1-0\"]\\n[CurrentPosition \"1Q4k1/1b6/4pqN1/p2n2p1/2pPB1P1/2P5/P7/6K1 b - -\"]\\n[Timezone \"UTC\"]\\n[ECO \"A45\"]\\n[ECOUrl \"https://www.chess.com/openings/Trompowsky-Attack\"]\\n[UTCDate \"2021.01.06\"]\\n[UTCTime \"17:02:23\"]\\n[WhiteElo \"2759\"]\\n[BlackElo \"2811\"]\\n[TimeControl \"1500+5\"]\\n[Termination \"Last7Samurai won by resignation\"]\\n[StartTime \"17:02:23\"]\\n[EndDate \"2021.01.06\"]\\n[EndTime \"17:47:54\"]\\n[Link \"https://www.chess.com/live/game/6160464937\"]\\n\\n1. d4 {[%clk 0:25:01.7]} 1... Nf6 {[%clk 0:25:02.9]} 2. Bg5 {[%clk 0:25:04.7]} 2... d5 {[%clk 0:25:05]} 3. Nd2 {[%clk 0:25:07.7]} 3... Nbd7 {[%clk 0:25:00.7]} 4. Ngf3 {[%clk 0:25:07.1]} 4... c5 {[%clk 0:24:58.6]} 5. e3 {[%clk 0:25:06.9]} 5... e6 {[%clk 0:24:53.1]} 6. Bd3 {[%clk 0:25:00.9]} 6... Bd6 {[%clk 0:24:53.5]} 7. O-O {[%clk 0:24:46.5]} 7... Qc7 {[%clk 0:24:47.3]} 8. c3 {[%clk 0:24:43.7]} 8... h6 {[%clk 0:24:38.6]} 9. Bh4 {[%clk 0:24:44]} 9... c4 {[%clk 0:23:34.6]} 10. Bc2 {[%clk 0:24:44.2]} 10... b5 {[%clk 0:23:38.2]} 11. e4 {[%clk 0:22:50.7]} 11... dxe4 {[%clk 0:23:43.1]} 12. Nxe4 {[%clk 0:22:54.7]} 12... Nxe4 {[%clk 0:23:42.8]} 13. Bxe4 {[%clk 0:22:59.6]} 13... Bb7 {[%clk 0:23:47.2]} 14. Qe2 {[%clk 0:22:59.6]} 14... O-O {[%clk 0:23:37]} 15. Rfe1 {[%clk 0:22:52.9]} 15... Nb6 {[%clk 0:23:30.9]} 16. Rad1 {[%clk 0:21:32.6]} 16... a5 {[%clk 0:23:16.7]} 17. Bb1 {[%clk 0:21:14]} 17... Rae8 {[%clk 0:22:32.2]} 18. Ne5 {[%clk 0:20:41.5]} 18... Nd5 {[%clk 0:21:59.8]} 19. Bg3 {[%clk 0:20:14.4]} 19... f5 {[%clk 0:21:04.6]} 20. f3 {[%clk 0:18:18]} 20... Rf6 {[%clk 0:19:31.4]} 21. Qc2 {[%clk 0:17:59.5]} 21... Rc8 {[%clk 0:19:21.2]} 22. Re2 {[%clk 0:17:38.4]} 22... b4 {[%clk 0:19:08.8]} 23. Rde1 {[%clk 0:17:39]} 23... Ba6 {[%clk 0:16:36.7]} 24. h4 {[%clk 0:15:03.6]} 24... g6 {[%clk 0:16:19.1]} 25. Qd2 {[%clk 0:14:28.7]} 25... Qg7 {[%clk 0:15:47.9]} 26. Bh2 {[%clk 0:14:06.4]} 26... Bb7 {[%clk 0:14:15.2]} 27. g4 {[%clk 0:13:36.9]} 27... bxc3 {[%clk 0:13:49.6]} 28. bxc3 {[%clk 0:13:38.8]} 28... fxg4 {[%clk 0:13:47.7]} 29. fxg4 {[%clk 0:11:36]} 29... g5 {[%clk 0:13:44.6]} 30. hxg5 {[%clk 0:10:30.4]} 30... hxg5 {[%clk 0:13:34.3]} 31. Bg3 {[%clk 0:10:25.4]} 31... Rcf8 {[%clk 0:13:07.9]} 32. Rh2 {[%clk 0:10:08.4]} 32... Rh6 {[%clk 0:13:11.3]} 33. Be4 {[%clk 0:08:47.4]} 33... Rff6 {[%clk 0:11:08.1]} 34. Ree2 {[%clk 0:08:14.5]} 34... Rxh2 {[%clk 0:08:12.8]} 35. Rxh2 {[%clk 0:08:12.3]} 35... Rh6 {[%clk 0:07:55.1]} 36. Qb2 {[%clk 0:07:38.4]} 36... Rxh2 {[%clk 0:07:33.4]} 37. Bxh2 {[%clk 0:07:43.3]} 37... Qe7 {[%clk 0:05:05]} 38. Ng6 {[%clk 0:07:08.4]} 38... Bxh2+ {[%clk 0:04:47]} 39. Qxh2 {[%clk 0:07:10.9]} 39... Qf6 {[%clk 0:04:26.5]} 40. Qb8+ {[%clk 0:07:09.6]} 1-0', 'time_control': '1500+5', 'end_time': 1609955274, 'rated': True, 'fen': '1Q4k1/1b6/4pqN1/p2n2p1/2pPB1P1/2P5/P7/6K1 b - -', 'time_class': 'rapid', 'rules': 'chess', 'white': {'rating': 2759, 'result': 'win', '@id': 'https://api.chess.com/pub/player/last7samurai', 'username': 'Last7Samurai'}, 'black': {'rating': 2811, 'result': 'resigned', '@id': 'https://api.chess.com/pub/player/jjosu', 'username': 'jjosu'}}, {'url': 'https://www.chess.com/live/game/6161996594', 'pgn': '[Event \"Live Chess\"]\\n[Site \"Chess.com\"]\\n[Date \"2021.01.06\"]\\n[Round \"-\"]\\n[White \"EthanLi-NY\"]\\n[Black \"Last7Samurai\"]\\n[Result \"0-1\"]\\n[CurrentPosition \"3r2k1/4bpp1/B3p1p1/2n5/1p6/6P1/PP1Q3P/K1RN3q w - -\"]\\n[Timezone \"UTC\"]\\n[ECO \"D12\"]\\n[ECOUrl \"https://www.chess.com/openings/Slav-Defense-Modern-Quiet-Schallopp-Defense-5.Nc3-e6-6.Nh4-Be4\"]\\n[UTCDate \"2021.01.06\"]\\n[UTCTime \"20:04:48\"]\\n[WhiteElo \"2211\"]\\n[BlackElo \"2762\"]\\n[TimeControl \"1500+5\"]\\n[Termination \"Last7Samurai won by resignation\"]\\n[StartTime \"20:04:48\"]\\n[EndDate \"2021.01.06\"]\\n[EndTime \"20:24:28\"]\\n[Link \"https://www.chess.com/live/game/6161996594\"]\\n\\n1. d4 {[%clk 0:24:58.7]} 1... d5 {[%clk 0:25:02.3]} 2. c4 {[%clk 0:24:58.1]} 2... c6 {[%clk 0:25:06]} 3. Nf3 {[%clk 0:25:00.3]} 3... Nf6 {[%clk 0:25:09.8]} 4. e3 {[%clk 0:25:04]} 4... Bf5 {[%clk 0:25:12.6]} 5. Nc3 {[%clk 0:25:06.3]} 5... e6 {[%clk 0:25:14.6]} 6. Nh4 {[%clk 0:25:09.9]} 6... Be4 {[%clk 0:25:18.3]} 7. f3 {[%clk 0:25:13.9]} 7... Bg6 {[%clk 0:25:22.4]} 8. Qb3 {[%clk 0:25:18.1]} 8... Qc7 {[%clk 0:25:25.3]} 9. Bd2 {[%clk 0:25:21.9]} 9... Be7 {[%clk 0:25:26.7]} 10. Nxg6 {[%clk 0:25:23.2]} 10... hxg6 {[%clk 0:25:30.3]} 11. O-O-O {[%clk 0:25:27.5]} 11... dxc4 {[%clk 0:24:42.7]} 12. Bxc4 {[%clk 0:25:30.1]} 12... b5 {[%clk 0:24:46.4]} 13. Be2 {[%clk 0:25:25.5]} 13... a6 {[%clk 0:24:50]} 14. g3 {[%clk 0:24:25.7]} 14... c5 {[%clk 0:24:44.7]} 15. dxc5 {[%clk 0:24:11.1]} 15... Nbd7 {[%clk 0:24:46.9]} 16. Kb1 {[%clk 0:24:01]} 16... Nxc5 {[%clk 0:24:48.9]} 17. Qc2 {[%clk 0:24:03.6]} 17... Rc8 {[%clk 0:24:22.5]} 18. Rc1 {[%clk 0:21:55.8]} 18... O-O {[%clk 0:24:12.1]} 19. Qd1 {[%clk 0:17:37.1]} 19... Rfd8 {[%clk 0:23:50.5]} 20. Qe1 {[%clk 0:17:39.2]} 20... Qb7 {[%clk 0:23:15.6]} 21. e4 {[%clk 0:17:23.4]} 21... b4 {[%clk 0:22:26.7]} 22. Nd1 {[%clk 0:17:22.7]} 22... Nfxe4 {[%clk 0:21:58.2]} 23. fxe4 {[%clk 0:14:32]} 23... Qxe4+ {[%clk 0:22:03.1]} 24. Ka1 {[%clk 0:14:34.1]} 24... Rxd2 {[%clk 0:22:05.6]} 25. Qxd2 {[%clk 0:14:00.5]} 25... Qxh1 {[%clk 0:22:07.8]} 26. Bxa6 {[%clk 0:13:13]} 26... Rd8 {[%clk 0:22:07.8]} 0-1', 'time_control': '1500+5', 'end_time': 1609964668, 'rated': True, 'fen': '3r2k1/4bpp1/B3p1p1/2n5/1p6/6P1/PP1Q3P/K1RN3q w - -', 'time_class': 'rapid', 'rules': 'chess', 'white': {'rating': 2211, 'result': 'resigned', '@id': 'https://api.chess.com/pub/player/ethanli-ny', 'username': 'EthanLi-NY'}, 'black': {'rating': 2762, 'result': 'win', '@id': 'https://api.chess.com/pub/player/last7samurai', 'username': 'Last7Samurai'}}, {'url': 'https://www.chess.com/live/game/6163349248', 'pgn': '[Event \"Live Chess\"]\\n[Site \"Chess.com\"]\\n[Date \"2021.01.06\"]\\n[Round \"-\"]\\n[White \"penguingm1\"]\\n[Black \"Last7Samurai\"]\\n[Result \"1/2-1/2\"]\\n[CurrentPosition \"rnbqkbnr/ppp1pppp/8/3p4/3P4/8/PPP1PPPP/RNBQKBNR w KQkq d6\"]\\n[Timezone \"UTC\"]\\n[ECO \"D00\"]\\n[ECOUrl \"https://www.chess.com/openings/Queens-Pawn-Opening-1...d5\"]\\n[UTCDate \"2021.01.06\"]\\n[UTCTime \"23:02:37\"]\\n[WhiteElo \"2848\"]\\n[BlackElo \"2770\"]\\n[TimeControl \"1500+5\"]\\n[Termination \"Game drawn by agreement\"]\\n[StartTime \"23:02:37\"]\\n[EndDate \"2021.01.06\"]\\n[EndTime \"23:03:13\"]\\n[Link \"https://www.chess.com/live/game/6163349248\"]\\n\\n1. d4 {[%clk 0:25:02.9]} 1... d5 {[%clk 0:24:35.6]} 1/2-1/2', 'time_control': '1500+5', 'end_time': 1609974193, 'rated': True, 'fen': 'rnbqkbnr/ppp1pppp/8/3p4/3P4/8/PPP1PPPP/RNBQKBNR w KQkq d6', 'time_class': 'rapid', 'rules': 'chess', 'white': {'rating': 2848, 'result': 'agreed', '@id': 'https://api.chess.com/pub/player/penguingm1', 'username': 'penguingm1'}, 'black': {'rating': 2770, 'result': 'agreed', '@id': 'https://api.chess.com/pub/player/last7samurai', 'username': 'Last7Samurai'}}, {'url': 'https://www.chess.com/live/game/6288119016', 'time_control': '180', 'end_time': 1611111231, 'rated': True, 'fen': 'r1bqk2r/ppp2ppp/2np1n2/P3p3/1P1PPnn1/P1N1bN1P/2PK1pP1/R1BQ1B1R w kq -', 'time_class': 'blitz', 'rules': 'bughouse', 'white': {'rating': 1373, 'result': 'checkmated', '@id': 'https://api.chess.com/pub/player/portland_potter', 'username': 'portland_potter'}, 'black': {'rating': 2391, 'result': 'win', '@id': 'https://api.chess.com/pub/player/last7samurai', 'username': 'Last7Samurai'}}, {'url': 'https://www.chess.com/live/game/6288127687', 'time_control': '180', 'end_time': 1611111497, 'rated': True, 'fen': '4r3/p1p2pkp/2p2p2/8/6P1/5q1P/P5P1/6BK w - -', 'time_class': 'blitz', 'rules': 'bughouse', 'white': {'rating': 1665, 'result': 'win', '@id': 'https://api.chess.com/pub/player/markearle', 'username': 'MarkEarle'}, 'black': {'rating': 2368, 'result': 'bughousepartnerlose', '@id': 'https://api.chess.com/pub/player/last7samurai', 'username': 'Last7Samurai'}}, {'url': 'https://www.chess.com/live/game/6288155228', 'time_control': '180', 'end_time': 1611111750, 'rated': True, 'fen': 'r5k1/ppp2ppp/5p2/8/5b2/2N2BnB/PP3qP1/R4nQK w - -', 'time_class': 'blitz', 'rules': 'bughouse', 'white': {'rating': 1354, 'result': 'checkmated', '@id': 'https://api.chess.com/pub/player/amedenrique', 'username': 'AmedEnrique'}, 'black': {'rating': 2369, 'result': 'win', '@id': 'https://api.chess.com/pub/player/last7samurai', 'username': 'Last7Samurai'}}, {'url': 'https://www.chess.com/live/game/6288175761', 'time_control': '180', 'end_time': 1611111938, 'rated': True, 'fen': 'r7/ppq1p1bp/2npk2p/5Q2/3pP3/5N2/PPPN1PPP/R2QK2R b KQ -', 'time_class': 'blitz', 'rules': 'bughouse', 'white': {'rating': 2370, 'result': 'win', '@id': 'https://api.chess.com/pub/player/last7samurai', 'username': 'Last7Samurai'}, 'black': {'rating': 1353, 'result': 'checkmated', '@id': 'https://api.chess.com/pub/player/amedenrique', 'username': 'AmedEnrique'}}, {'url': 'https://www.chess.com/live/game/6288193409', 'time_control': '180', 'end_time': 1611112094, 'rated': True, 'fen': 'rnbqk2r/pp1r1pNp/4pnp1/2B5/2B1P3/2P5/P1P2PPP/R2QK2R b KQ -', 'time_class': 'blitz', 'rules': 'bughouse', 'white': {'rating': 2371, 'result': 'win', '@id': 'https://api.chess.com/pub/player/last7samurai', 'username': 'Last7Samurai'}, 'black': {'rating': 1352, 'result': 'checkmated', '@id': 'https://api.chess.com/pub/player/amedenrique', 'username': 'AmedEnrique'}}, {'url': 'https://www.chess.com/live/game/6288211297', 'time_control': '180', 'end_time': 1611112285, 'rated': True, 'fen': 'r1bqr1k1/pp2bppp/3p1p2/2p5/3nQ3/B4nPp/PP1P1PKP/RNB2R2 w - -', 'time_class': 'blitz', 'rules': 'bughouse', 'white': {'rating': 1568, 'result': 'bughousepartnerlose', '@id': 'https://api.chess.com/pub/player/firekaz', 'username': 'Firekaz'}, 'black': {'rating': 2375, 'result': 'win', '@id': 'https://api.chess.com/pub/player/last7samurai', 'username': 'Last7Samurai'}}, {'url': 'https://www.chess.com/live/game/6288232049', 'time_control': '180', 'end_time': 1611112643, 'rated': True, 'fen': 'r1b2k1r/ppp2Ppp/3p4/3Pp1N1/3b4/3P4/PP1K1PPP/R1nq1r2 w - -', 'time_class': 'blitz', 'rules': 'bughouse', 'white': {'rating': 1363, 'result': 'checkmated', '@id': 'https://api.chess.com/pub/player/ivanlozan0', 'username': 'ivanlozan0'}, 'black': {'rating': 2376, 'result': 'win', '@id': 'https://api.chess.com/pub/player/last7samurai', 'username': 'Last7Samurai'}}, {'url': 'https://www.chess.com/live/game/6288267001', 'time_control': '180', 'end_time': 1611112770, 'rated': True, 'fen': 'r1bqk1nr/pppp1ppp/2n5/8/2BpP3/8/PPP2PPP/RNBQ1RK1 b kq -', 'time_class': 'blitz', 'rules': 'bughouse', 'white': {'rating': 2376, 'result': 'win', '@id': 'https://api.chess.com/pub/player/last7samurai', 'username': 'Last7Samurai'}, 'black': {'rating': 1513, 'result': 'bughousepartnerlose', '@id': 'https://api.chess.com/pub/player/tithaum', 'username': 'Tithaum'}}, {'url': 'https://www.chess.com/live/game/6288271627', 'time_control': '180', 'end_time': 1611113003, 'rated': True, 'fen': 'r2qkbr1/p1p2p1p/b1p2p2/n4p2/1b2p3/1K4P1/PPP2PPP/RNBQ1rNR w q -', 'time_class': 'blitz', 'rules': 'bughouse', 'white': {'rating': 1512, 'result': 'timeout', '@id': 'https://api.chess.com/pub/player/tithaum', 'username': 'Tithaum'}, 'black': {'rating': 2378, 'result': 'win', '@id': 'https://api.chess.com/pub/player/last7samurai', 'username': 'Last7Samurai'}}, {'url': 'https://www.chess.com/live/game/6288291190', 'time_control': '180', 'end_time': 1611113123, 'rated': True, 'fen': 'r1bqk1nr/pppp2Pp/4pp2/4b1p1/2BpP2B/8/PPP2PPP/R1BQR1K1 b kq -', 'time_class': 'blitz', 'rules': 'bughouse', 'white': {'rating': 2353, 'result': 'bughousepartnerlose', '@id': 'https://api.chess.com/pub/player/last7samurai', 'username': 'Last7Samurai'}, 'black': {'rating': 1527, 'result': 'win', '@id': 'https://api.chess.com/pub/player/tithaum', 'username': 'Tithaum'}}, {'url': 'https://www.chess.com/live/game/6288305726', 'time_control': '180', 'end_time': 1611113302, 'rated': True, 'fen': 'r2k1bnr/ppNp2pp/3p1p2/1BNNpPB1/2B1P3/3P4/PPP1nPPP/R3K2R b KQ -', 'time_class': 'blitz', 'rules': 'bughouse', 'white': {'rating': 2355, 'result': 'win', '@id': 'https://api.chess.com/pub/player/last7samurai', 'username': 'Last7Samurai'}, 'black': {'rating': 1418, 'result': 'bughousepartnerlose', '@id': 'https://api.chess.com/pub/player/businesslaw', 'username': 'businesslaw'}}, {'url': 'https://www.chess.com/game/daily/301796850', 'pgn': '[Event \"Let\\'s Play!\"]\\n[Site \"Chess.com\"]\\n[Date \"2021.01.13\"]\\n[Round \"-\"]\\n[White \"Last7Samurai\"]\\n[Black \"Jackilles\"]\\n[Result \"1-0\"]\\n[CurrentPosition \"8/3N4/6k1/4Q3/8/1R4p1/1B4P1/6K1 w - - 2 52\"]\\n[Timezone \"UTC\"]\\n[ECO \"C54\"]\\n[ECOUrl \"https://www.chess.com/openings/Giuoco-Piano-Game-Center-Attack-Greco-Attack\"]\\n[UTCDate \"2021.01.13\"]\\n[UTCTime \"02:31:29\"]\\n[WhiteElo \"2207\"]\\n[BlackElo \"1127\"]\\n[TimeControl \"1/1209600\"]\\n[Termination \"Last7Samurai won by resignation\"]\\n[StartTime \"02:31:29\"]\\n[EndDate \"2021.01.27\"]\\n[EndTime \"06:11:45\"]\\n[Link \"https://www.chess.com/game/daily/301796850\"]\\n\\n1. e4 {[%clk 335:59:55]} 1... e5 {[%clk 335:59:52]} 2. Nf3 {[%clk 335:57:28]} 2... Nc6 {[%clk 335:59:30]} 3. Bc4 {[%clk 335:55:36]} 3... Bc5 {[%clk 335:53:28]} 4. c3 {[%clk 335:36:57]} 4... Nf6 {[%clk 335:55:09]} 5. d4 {[%clk 321:45:39]} 5... exd4 {[%clk 335:08:22]} 6. cxd4 {[%clk 333:24:35]} 6... Bb4+ {[%clk 335:32:52]} 7. Nc3 {[%clk 335:33:38]} 7... h6 {[%clk 335:29:55]} 8. O-O {[%clk 335:44:31]} 8... O-O {[%clk 335:14:39]} 9. e5 {[%clk 335:49:00]} 9... Nh7 {[%clk 333:54:29]} 10. d5 {[%clk 259:11:48]} 10... Ne7 {[%clk 322:37:11]} 11. Bd3 {[%clk 335:35:47]} 11... Bxc3 {[%clk 334:00:01]} 12. bxc3 {[%clk 334:28:56]} 12... d6 {[%clk 335:57:34]} 13. Qc2 {[%clk 324:01:54]} 13... f5 {[%clk 324:49:23]} 14. c4 {[%clk 335:44:01]} 14... c6 {[%clk 332:31:56]} 15. exd6 {[%clk 323:23:18]} 15... Qxd6 {[%clk 333:38:34]} 16. c5 {[%clk 335:32:08]} 16... Qd7 {[%clk 335:38:47]} 17. d6 {[%clk 335:46:37]} 17... Nd5 {[%clk 335:38:36]} 18. Bc4 {[%clk 335:27:05]} 18... b5 {[%clk 335:45:32]} 19. Bb3 {[%clk 328:55:09]} 19... a5 {[%clk 331:55:25]} 20. a3 {[%clk 327:38:59]} 20... a4 {[%clk 333:49:02]} 21. Ba2 {[%clk 335:41:17]} 21... Kh8 {[%clk 332:42:00]} 22. Ne5 {[%clk 313:28:22]} 22... Qe8 {[%clk 334:14:31]} 23. Re1 {[%clk 335:37:15]} 23... b4 {[%clk 335:52:16]} 24. Bxd5 {[%clk 335:18:54]} 24... cxd5 {[%clk 335:42:18]} 25. axb4 {[%clk 335:43:10]} 25... Nf6 {[%clk 335:50:43]} 26. Bb2 {[%clk 335:57:05]} 26... Ne4 {[%clk 325:53:53]} 27. f3 {[%clk 330:23:22]} 27... Nxd6 {[%clk 331:08:56]} 28. cxd6 {[%clk 335:39:24]} 28... Qe6 {[%clk 335:36:07]} 29. Qc7 {[%clk 335:36:00]} 29... Ra6 {[%clk 333:38:23]} 30. d7 {[%clk 335:43:50]} 30... Bxd7 {[%clk 335:39:58]} 31. Nxd7 {[%clk 335:44:30]} 31... Qf7 {[%clk 332:49:48]} 32. Qc5 {[%clk 335:44:13]} 32... Re8 {[%clk 335:30:17]} 33. Rxe8+ {[%clk 335:44:22]} 33... Qxe8 {[%clk 335:44:54]} 34. Qf8+ {[%clk 335:44:25]} 34... Qxf8 {[%clk 335:46:44]} 35. Nxf8 {[%clk 335:41:46]} 35... Kg8 {[%clk 333:49:42]} 36. Nd7 {[%clk 330:41:14]} 36... d4 {[%clk 332:50:30]} 37. Nc5 {[%clk 335:43:52]} 37... Rd6 {[%clk 335:26:14]} 38. Nd3 {[%clk 335:16:13]} 38... Kh7 {[%clk 332:21:27]} 39. Rxa4 {[%clk 335:33:38]} 39... g5 {[%clk 334:53:38]} 40. b5 {[%clk 330:17:25]} 40... Rd7 {[%clk 335:55:39]} 41. Rxd4 {[%clk 334:51:41]} 41... Rb7 {[%clk 334:51:01]} 42. Rb4 {[%clk 328:41:56]} 42... Rd7 {[%clk 329:51:29]} 43. Rb3 {[%clk 329:46:44]} 43... g4 {[%clk 335:29:00]} 44. fxg4 {[%clk 335:46:01]} 44... fxg4 {[%clk 335:53:42]} 45. b6 {[%clk 335:28:29]} 45... Kg6 {[%clk 335:56:52]} 46. Ne5+ {[%clk 335:27:57]} 46... Kf5 {[%clk 335:33:01]} 47. Nxd7 {[%clk 335:16:40]} 47... h5 {[%clk 335:44:54]} 48. b7 {[%clk 325:52:41]} 48... g3 {[%clk 329:42:03]} 49. hxg3 {[%clk 332:40:10]} 49... h4 {[%clk 335:31:05]} 50. b8=Q {[%clk 335:44:05]} 50... hxg3 {[%clk 335:44:39]} 51. Qe5+ {[%clk 321:17:09]} 51... Kg6 {[%clk 333:21:16]} 1-0', 'time_control': '1/1209600', 'end_time': 1611727905, 'rated': True, 'fen': '8/3N4/6k1/4Q3/8/1R4p1/1B4P1/6K1 w - - 2 52', 'start_time': 1610505089, 'time_class': 'daily', 'rules': 'chess', 'white': {'rating': 2207, 'result': 'win', '@id': 'https://api.chess.com/pub/player/last7samurai', 'username': 'Last7Samurai'}, 'black': {'rating': 1127, 'result': 'resigned', '@id': 'https://api.chess.com/pub/player/jackilles', 'username': 'Jackilles'}}, {'url': 'https://www.chess.com/live/game/6370154938', 'pgn': '[Event \"Live Chess\"]\\n[Site \"Chess.com\"]\\n[Date \"2021.01.28\"]\\n[Round \"-\"]\\n[White \"mynakabsolution\"]\\n[Black \"Last7Samurai\"]\\n[Result \"0-1\"]\\n[CurrentPosition \"3r2k1/ppp2ppp/8/8/6b1/P7/2P1rP1P/2RKR3 w - -\"]\\n[Timezone \"UTC\"]\\n[ECO \"C22\"]\\n[ECOUrl \"https://www.chess.com/openings/Center-Game-Accepted-Paulsen-Berger-Variation-5.Nc3-Bb4\"]\\n[UTCDate \"2021.01.28\"]\\n[UTCTime \"04:06:12\"]\\n[WhiteElo \"911\"]\\n[BlackElo \"2770\"]\\n[TimeControl \"600\"]\\n[Termination \"Last7Samurai won by checkmate\"]\\n[StartTime \"04:06:12\"]\\n[EndDate \"2021.01.28\"]\\n[EndTime \"04:08:04\"]\\n[Link \"https://www.chess.com/live/game/6370154938\"]\\n\\n1. e4 {[%clk 0:10:00]} 1... e5 {[%clk 0:10:00]} 2. d4 {[%clk 0:09:58.5]} 2... exd4 {[%clk 0:09:58.5]} 3. Qxd4 {[%clk 0:09:57.5]} 3... Nc6 {[%clk 0:09:57]} 4. Qe3 {[%clk 0:09:50.5]} 4... Nf6 {[%clk 0:09:55.9]} 5. Nc3 {[%clk 0:09:47.6]} 5... Bb4 {[%clk 0:09:54.7]} 6. a3 {[%clk 0:09:44.5]} 6... Bxc3+ {[%clk 0:09:53.4]} 7. Qxc3 {[%clk 0:09:41.6]} 7... O-O {[%clk 0:09:52.1]} 8. Bg5 {[%clk 0:09:39.7]} 8... Nxe4 {[%clk 0:09:47.6]} 9. Bxd8 {[%clk 0:09:32.3]} 9... Nxc3 {[%clk 0:09:46.4]} 10. bxc3 {[%clk 0:09:31.4]} 10... Rxd8 {[%clk 0:09:44.8]} 11. Bc4 {[%clk 0:09:27.4]} 11... d5 {[%clk 0:09:41.2]} 12. Bd3 {[%clk 0:09:24.8]} 12... Re8+ {[%clk 0:09:39.2]} 13. Be2 {[%clk 0:09:22.2]} 13... Bf5 {[%clk 0:09:37.4]} 14. Rc1 {[%clk 0:09:18]} 14... d4 {[%clk 0:09:36]} 15. cxd4 {[%clk 0:09:16.8]} 15... Nxd4 {[%clk 0:09:35.9]} 16. g4 {[%clk 0:09:04.8]} 16... Bxg4 {[%clk 0:09:34.2]} 17. Kd1 {[%clk 0:08:49.7]} 17... Nxe2 {[%clk 0:09:32.7]} 18. Nxe2 {[%clk 0:08:47.8]} 18... Rxe2 {[%clk 0:09:32.2]} 19. Re1 {[%clk 0:08:46.8]} 19... Rd8# {[%clk 0:09:30.8]} 0-1', 'time_control': '600', 'end_time': 1611806884, 'rated': False, 'fen': '3r2k1/ppp2ppp/8/8/6b1/P7/2P1rP1P/2RKR3 w - -', 'time_class': 'rapid', 'rules': 'chess', 'white': {'rating': 911, 'result': 'checkmated', '@id': 'https://api.chess.com/pub/player/mynakabsolution', 'username': 'mynakabsolution'}, 'black': {'rating': 2770, 'result': 'win', '@id': 'https://api.chess.com/pub/player/last7samurai', 'username': 'Last7Samurai'}}, {'url': 'https://www.chess.com/live/game/6370168359', 'pgn': '[Event \"Live Chess\"]\\n[Site \"Chess.com\"]\\n[Date \"2021.01.28\"]\\n[Round \"-\"]\\n[White \"Last7Samurai\"]\\n[Black \"mynakabsolution\"]\\n[Result \"1-0\"]\\n[CurrentPosition \"7k/5R2/5BpN/2p4p/p2p4/1P6/P1P2PPP/6K1 b - -\"]\\n[Timezone \"UTC\"]\\n[ECO \"C55\"]\\n[ECOUrl \"https://www.chess.com/openings/Italian-Game-Max-Lange-Attack-6.e5\"]\\n[UTCDate \"2021.01.28\"]\\n[UTCTime \"04:08:11\"]\\n[WhiteElo \"2770\"]\\n[BlackElo \"911\"]\\n[TimeControl \"600\"]\\n[Termination \"Last7Samurai won by checkmate\"]\\n[StartTime \"04:08:11\"]\\n[EndDate \"2021.01.28\"]\\n[EndTime \"04:11:56\"]\\n[Link \"https://www.chess.com/live/game/6370168359\"]\\n\\n1. e4 {[%clk 0:10:00]} 1... e5 {[%clk 0:10:00]} 2. Nf3 {[%clk 0:09:56.3]} 2... Nc6 {[%clk 0:09:57.7]} 3. Bc4 {[%clk 0:09:55.3]} 3... Nf6 {[%clk 0:09:54.2]} 4. d4 {[%clk 0:09:54.5]} 4... exd4 {[%clk 0:09:52.1]} 5. O-O {[%clk 0:09:53.6]} 5... Bc5 {[%clk 0:09:40.6]} 6. e5 {[%clk 0:09:52]} 6... Ne4 {[%clk 0:09:06.8]} 7. Bd5 {[%clk 0:09:48.4]} 7... d6 {[%clk 0:08:50]} 8. Bxe4 {[%clk 0:09:38.8]} 8... dxe5 {[%clk 0:08:45.4]} 9. Bxc6+ {[%clk 0:09:36.6]} 9... bxc6 {[%clk 0:08:44.4]} 10. Nxe5 {[%clk 0:09:36.2]} 10... Qf6 {[%clk 0:08:34.5]} 11. Nd3 {[%clk 0:09:33.7]} 11... O-O {[%clk 0:08:32.5]} 12. Nxc5 {[%clk 0:09:32.4]} 12... Bf5 {[%clk 0:08:26]} 13. Nd3 {[%clk 0:09:29.9]} 13... Bxd3 {[%clk 0:08:23.5]} 14. Qxd3 {[%clk 0:09:28.6]} 14... c5 {[%clk 0:08:22.7]} 15. Nd2 {[%clk 0:09:27.7]} 15... Rae8 {[%clk 0:08:20.4]} 16. Ne4 {[%clk 0:09:26.6]} 16... Qe5 {[%clk 0:08:18.5]} 17. Ng3 {[%clk 0:09:24.7]} 17... Qd5 {[%clk 0:08:09.8]} 18. b3 {[%clk 0:09:22.9]} 18... h5 {[%clk 0:07:56.5]} 19. Qf5 {[%clk 0:09:19.7]} 19... Qxf5 {[%clk 0:07:52.6]} 20. Nxf5 {[%clk 0:09:19.6]} 20... Re5 {[%clk 0:07:47.7]} 21. Ng3 {[%clk 0:09:18.1]} 21... Rfe8 {[%clk 0:07:43.8]} 22. Bf4 {[%clk 0:09:16.7]} 22... Rf5 {[%clk 0:07:39.6]} 23. Nxf5 {[%clk 0:09:15.4]} 23... g6 {[%clk 0:07:37.7]} 24. Nh6+ {[%clk 0:09:14.2]} 24... Kh7 {[%clk 0:07:36.3]} 25. Rfe1 {[%clk 0:09:14.1]} 25... Rxe1+ {[%clk 0:07:34.7]} 26. Rxe1 {[%clk 0:09:14]} 26... f6 {[%clk 0:07:31.1]} 27. Re7+ {[%clk 0:09:13]} 27... Kh8 {[%clk 0:07:28.3]} 28. Bxc7 {[%clk 0:09:12.9]} 28... a6 {[%clk 0:07:22.5]} 29. Rf7 {[%clk 0:09:11.9]} 29... a5 {[%clk 0:07:20.9]} 30. Bd8 {[%clk 0:09:11.4]} 30... a4 {[%clk 0:07:19.9]} 31. Bxf6# {[%clk 0:09:11.3]} 1-0', 'time_control': '600', 'end_time': 1611807116, 'rated': False, 'fen': '7k/5R2/5BpN/2p4p/p2p4/1P6/P1P2PPP/6K1 b - -', 'time_class': 'rapid', 'rules': 'chess', 'white': {'rating': 2770, 'result': 'win', '@id': 'https://api.chess.com/pub/player/last7samurai', 'username': 'Last7Samurai'}, 'black': {'rating': 911, 'result': 'checkmated', '@id': 'https://api.chess.com/pub/player/mynakabsolution', 'username': 'mynakabsolution'}}, {'url': 'https://www.chess.com/live/game/6370191945', 'pgn': '[Event \"Live Chess\"]\\n[Site \"Chess.com\"]\\n[Date \"2021.01.28\"]\\n[Round \"-\"]\\n[White \"mynakabsolution\"]\\n[Black \"Last7Samurai\"]\\n[Result \"0-1\"]\\n[CurrentPosition \"8/ppp5/3p4/3P1b2/1Pk2p1p/5P2/P5K1/8 w - -\"]\\n[Timezone \"UTC\"]\\n[ECO \"C42\"]\\n[ECOUrl \"https://www.chess.com/openings/Petrovs-Defense-Three-Knights-Game\"]\\n[UTCDate \"2021.01.28\"]\\n[UTCTime \"04:12:40\"]\\n[WhiteElo \"911\"]\\n[BlackElo \"2770\"]\\n[TimeControl \"600\"]\\n[Termination \"Last7Samurai won by resignation\"]\\n[StartTime \"04:12:40\"]\\n[EndDate \"2021.01.28\"]\\n[EndTime \"04:15:18\"]\\n[Link \"https://www.chess.com/live/game/6370191945\"]\\n\\n1. e4 {[%clk 0:10:00]} 1... e5 {[%clk 0:10:00]} 2. Nc3 {[%clk 0:09:57.9]} 2... Nf6 {[%clk 0:09:58.9]} 3. Nf3 {[%clk 0:09:56]} 3... Nc6 {[%clk 0:09:58.3]} 4. d4 {[%clk 0:09:49]} 4... exd4 {[%clk 0:09:58.2]} 5. Nxd4 {[%clk 0:09:47]} 5... Bb4 {[%clk 0:09:45.8]} 6. Bd2 {[%clk 0:09:44.4]} 6... Nxd4 {[%clk 0:09:40.2]} 7. Nd5 {[%clk 0:09:40.2]} 7... Nxd5 {[%clk 0:09:28.5]} 8. exd5 {[%clk 0:09:38.8]} 8... Qe7+ {[%clk 0:09:23.1]} 9. Be2 {[%clk 0:09:36.9]} 9... Bxd2+ {[%clk 0:09:19.1]} 10. Qxd2 {[%clk 0:09:34.4]} 10... Qxe2+ {[%clk 0:09:17.6]} 11. Qxe2+ {[%clk 0:09:33.3]} 11... Nxe2 {[%clk 0:09:17]} 12. Kxe2 {[%clk 0:09:31.7]} 12... O-O {[%clk 0:09:15.5]} 13. Rhd1 {[%clk 0:09:29.8]} 13... d6 {[%clk 0:09:12.5]} 14. c4 {[%clk 0:09:28.9]} 14... Re8+ {[%clk 0:09:10.7]} 15. Kd2 {[%clk 0:09:28.2]} 15... Bd7 {[%clk 0:09:08.1]} 16. Re1 {[%clk 0:09:22]} 16... h5 {[%clk 0:09:05.2]} 17. Rxe8+ {[%clk 0:09:20.4]} 17... Rxe8 {[%clk 0:09:04.7]} 18. Re1 {[%clk 0:09:19.5]} 18... Rxe1 {[%clk 0:09:03.4]} 19. Kxe1 {[%clk 0:09:17.5]} 19... g5 {[%clk 0:09:03.3]} 20. f3 {[%clk 0:09:16]} 20... f5 {[%clk 0:09:00.8]} 21. g3 {[%clk 0:09:10.1]} 21... Kg7 {[%clk 0:08:59.4]} 22. h3 {[%clk 0:09:08.8]} 22... Kf6 {[%clk 0:08:57.4]} 23. Ke2 {[%clk 0:09:07.7]} 23... Ke5 {[%clk 0:08:56.1]} 24. Ke3 {[%clk 0:09:06.2]} 24... f4+ {[%clk 0:08:54.7]} 25. gxf4+ {[%clk 0:09:03.8]} 25... gxf4+ {[%clk 0:08:54.6]} 26. Kd3 {[%clk 0:09:00.2]} 26... Bxh3 {[%clk 0:08:54.5]} 27. b4 {[%clk 0:08:56.4]} 27... Bf5+ {[%clk 0:08:54.4]} 28. Ke2 {[%clk 0:08:54.9]} 28... h4 {[%clk 0:08:54.3]} 29. Kf2 {[%clk 0:08:54.1]} 29... Kd4 {[%clk 0:08:53.4]} 30. Kg2 {[%clk 0:08:52.6]} 30... Kxc4 {[%clk 0:08:52.7]} 0-1', 'time_control': '600', 'end_time': 1611807318, 'rated': False, 'fen': '8/ppp5/3p4/3P1b2/1Pk2p1p/5P2/P5K1/8 w - -', 'time_class': 'rapid', 'rules': 'chess', 'white': {'rating': 911, 'result': 'resigned', '@id': 'https://api.chess.com/pub/player/mynakabsolution', 'username': 'mynakabsolution'}, 'black': {'rating': 2770, 'result': 'win', '@id': 'https://api.chess.com/pub/player/last7samurai', 'username': 'Last7Samurai'}}]}\n"
     ]
    }
   ],
   "source": [
    "from chessdotcom import get_player_games_by_month\n",
    "\n",
    "data = get_player_games_by_month(\"Last7Samurai\", month=1, year=2021)\n",
    "print(data.json)"
   ]
  },
  {
   "cell_type": "code",
   "execution_count": 100,
   "metadata": {},
   "outputs": [
    {
     "data": {
      "text/plain": [
       "3"
      ]
     },
     "execution_count": 100,
     "metadata": {},
     "output_type": "execute_result"
    }
   ],
   "source": [
    "import json\n",
    "\n",
    "only_600 = filter(lambda x:x[\"time_control\"]==\"600\",data.json[\"games\"])\n",
    "len(list(only_600))"
   ]
  },
  {
   "cell_type": "code",
   "execution_count": 101,
   "metadata": {},
   "outputs": [
    {
     "data": {
      "text/plain": [
       "Counter({'1/259200': 1, '1500+5': 9, '180': 11, '1/1209600': 1, '600': 3})"
      ]
     },
     "execution_count": 101,
     "metadata": {},
     "output_type": "execute_result"
    }
   ],
   "source": [
    "from collections import Counter\n",
    "\n",
    "# what does he play?\n",
    "def get_frequency_of_played_formats(data):\n",
    "    games = data.json[\"games\"]\n",
    "    list_of_types = [x[\"time_control\"] for x in games]\n",
    "    return Counter(list_of_types)\n",
    "\n",
    "get_frequency_of_played_formats(data)"
   ]
  },
  {
   "cell_type": "code",
   "execution_count": 94,
   "metadata": {},
   "outputs": [],
   "source": [
    "def get_frequencies_for_players(players):\n",
    "    player_frequency = {}\n",
    "    for player in players:\n",
    "        data = get_player_games_by_month(player, month=1, year=2021)\n",
    "        frequencies = get_frequency_of_played_formats(data)\n",
    "        player_frequency[player] = frequencies\n",
    "    return player_frequency\n",
    "    \n",
    "player_frequency = get_frequencies_for_players(top_50_rapid_playes)"
   ]
  },
  {
   "cell_type": "code",
   "execution_count": 105,
   "metadata": {},
   "outputs": [],
   "source": [
    "from functools import reduce\n",
    "\n",
    "top_50_counter = reduce((lambda x, y: x + y), player_frequency.values())"
   ]
  },
  {
   "cell_type": "code",
   "execution_count": 106,
   "metadata": {},
   "outputs": [],
   "source": [
    "top_50_counter = dict(filter(lambda x: x[1]>15 and x[1]<800 and not x[0].startswith(\"1/\"),top_50_counter.items()))\n",
    "top_50_counter = dict(sorted(top_50_counter.items(), key=lambda item: item[1]))"
   ]
  },
  {
   "cell_type": "code",
   "execution_count": 107,
   "metadata": {},
   "outputs": [
    {
     "data": {
      "text/plain": [
       "{'3600+5': 25,\n",
       " '900+10': 26,\n",
       " '10': 33,\n",
       " '600': 53,\n",
       " '1500+5': 62,\n",
       " '120+1': 65,\n",
       " '300': 104,\n",
       " '180+2': 210,\n",
       " '180+1': 398}"
      ]
     },
     "execution_count": 107,
     "metadata": {},
     "output_type": "execute_result"
    }
   ],
   "source": [
    "top_50_counter"
   ]
  },
  {
   "cell_type": "code",
   "execution_count": 108,
   "metadata": {
    "scrolled": true
   },
   "outputs": [
    {
     "data": {
      "image/png": "[encoded data removed]",
      "text/plain": [
       "<Figure size 432x288 with 1 Axes>"
      ]
     },
     "metadata": {
      "needs_background": "light"
     },
     "output_type": "display_data"
    }
   ],
   "source": [
    "# top formats of top player\n",
    "from matplotlib.ticker import FuncFormatter\n",
    "import matplotlib.pyplot as plt\n",
    "import numpy as np\n",
    "\n",
    "x = list(top_50_counter.keys())\n",
    "frequency = list(top_50_counter.values())\n",
    "\n",
    "fig, ax = plt.subplots()\n",
    "ax.barh(x, frequency, align='center')\n",
    "plt.show()"
   ]
  },
  {
   "cell_type": "code",
   "execution_count": 114,
   "metadata": {},
   "outputs": [],
   "source": [
    "import re\n",
    "\n",
    "def get_number_of_moves(data, time_control=\"300\"):\n",
    "    total_move_numbers = []\n",
    "    games = data.json[\"games\"]\n",
    "    for x in games:\n",
    "        if \"pgn\" not in x or x[\"time_control\"] != \"300\":\n",
    "            continue\n",
    "        last_move_stamp = re.findall(\"\\d+..[a-zA-Z]\", x[\"pgn\"])[-1]\n",
    "        last_move_number = int(re.search('[0-9]+', last_move_stamp).group())\n",
    "        total_move_numbers.append(last_move_number)    \n",
    "    return total_move_numbers"
   ]
  },
  {
   "cell_type": "code",
   "execution_count": 115,
   "metadata": {
    "scrolled": true
   },
   "outputs": [],
   "source": [
    "def get_moves_counters_for_players(players, time_control=\"300\"):\n",
    "    player_moves_count = {}\n",
    "    for player in players:\n",
    "        data = get_player_games_by_month(player, month=1, year=2021)\n",
    "        move_counters_array = get_number_of_moves(data, time_control)\n",
    "        player_moves_count[player] = move_counters_array\n",
    "    return player_moves_count\n",
    "\n",
    "player_moves_count = get_moves_counters_for_players(top_50_rapid_playes)"
   ]
  },
  {
   "cell_type": "code",
   "execution_count": 116,
   "metadata": {
    "scrolled": true
   },
   "outputs": [
    {
     "data": {
      "text/plain": [
       "{'ChessBrah': [],\n",
       " 'SeanWinshand': [91, 8, 8],\n",
       " 'GMSrinath': [],\n",
       " 'lachesisQ': [],\n",
       " 'dretch': [],\n",
       " 'LyonBeast': [],\n",
       " 'penguingm1': [],\n",
       " 'Sibelephant': [],\n",
       " 'Aravindhchess1999': [],\n",
       " 'BogdanDeac': [],\n",
       " 'Yaacovn': [],\n",
       " 'Chefshouse': [],\n",
       " 'barzed': [],\n",
       " 'MagnusCarlsen': [],\n",
       " 'HuntressesofArtemis': [],\n",
       " 'ChristopherYoo': [12, 20, 17, 34, 14, 25],\n",
       " 'Hikaru': [],\n",
       " 'Elshan1985': [],\n",
       " 'GigaQuparadze': [],\n",
       " 'AnishGiri': [],\n",
       " 'MiroVlasenko': [],\n",
       " 'Grischuk': [],\n",
       " 'Last7Samurai': [],\n",
       " 'RoelandPruijssers': [],\n",
       " 'AlexanderL': [],\n",
       " 'TenisMaster': [],\n",
       " 'GutovAndrey': [],\n",
       " 'praveenb2002': [],\n",
       " 'cruise999': [],\n",
       " 'Atalik': [],\n",
       " 'Malev212': [],\n",
       " 'LOVEVAE': [],\n",
       " 'SpeedofLight0': [],\n",
       " 'ChessLover0108': [],\n",
       " 'Zkid': [],\n",
       " 'bangchess21': [53],\n",
       " 'kleinebeer98': [],\n",
       " 'kaumandur01': [],\n",
       " 'jefferyx': [],\n",
       " 'BeanScreen': [],\n",
       " 'howitzer14': [],\n",
       " 'PaulVelten': [],\n",
       " 'GOGIEFF': [],\n",
       " 'chesspanda123': [],\n",
       " 'Y0ung_Capablanca': [],\n",
       " 'Sanan_Sjugirov': [],\n",
       " 'Twitch_ElhamBlitz05': [27, 42, 60],\n",
       " 'KNVB': [16,\n",
       "  22,\n",
       "  23,\n",
       "  25,\n",
       "  27,\n",
       "  32,\n",
       "  25,\n",
       "  20,\n",
       "  53,\n",
       "  23,\n",
       "  36,\n",
       "  31,\n",
       "  27,\n",
       "  36,\n",
       "  76,\n",
       "  13,\n",
       "  34,\n",
       "  37,\n",
       "  28,\n",
       "  50,\n",
       "  50,\n",
       "  21,\n",
       "  17,\n",
       "  27,\n",
       "  44,\n",
       "  28,\n",
       "  41,\n",
       "  21,\n",
       "  51,\n",
       "  157,\n",
       "  36,\n",
       "  39,\n",
       "  25,\n",
       "  29,\n",
       "  20,\n",
       "  30,\n",
       "  19,\n",
       "  36,\n",
       "  13,\n",
       "  18,\n",
       "  20,\n",
       "  129,\n",
       "  26,\n",
       "  27,\n",
       "  17,\n",
       "  24,\n",
       "  21,\n",
       "  29,\n",
       "  32,\n",
       "  32,\n",
       "  24,\n",
       "  24,\n",
       "  33,\n",
       "  19,\n",
       "  22],\n",
       " 'Bladel': [27,\n",
       "  64,\n",
       "  41,\n",
       "  42,\n",
       "  58,\n",
       "  25,\n",
       "  59,\n",
       "  33,\n",
       "  52,\n",
       "  44,\n",
       "  50,\n",
       "  53,\n",
       "  48,\n",
       "  37,\n",
       "  52,\n",
       "  46,\n",
       "  23,\n",
       "  34,\n",
       "  46,\n",
       "  51,\n",
       "  38,\n",
       "  64,\n",
       "  31,\n",
       "  47,\n",
       "  15,\n",
       "  53,\n",
       "  45],\n",
       " 'attack2mateU': []}"
      ]
     },
     "execution_count": 116,
     "metadata": {},
     "output_type": "execute_result"
    }
   ],
   "source": [
    "player_moves_count"
   ]
  },
  {
   "cell_type": "code",
   "execution_count": 140,
   "metadata": {},
   "outputs": [],
   "source": [
    "import numpy as np\n",
    "\n",
    "def filter_players(player_moves_count, played_games = 5):\n",
    "    return dict(filter(lambda x: len(x[1])>played_games, player_moves_count.items()))\n",
    "\n",
    "def get_number_of_games_with_moves_number(player_moves_count, step=10, until=60):\n",
    "    moves_graduation = np.arange(start = 0, stop = until + step, step = step)\n",
    "    moves_graduation_counter = dict.fromkeys(moves_graduation, 0)\n",
    "    for move_counters in player_moves_count.values():\n",
    "        for move_count in move_counters:\n",
    "            if (move_count > until):\n",
    "                    moves_graduation_counter[until] = moves_graduation_counter[until] + 1;\n",
    "                    continue\n",
    "            move_count -= move_count % 10;\n",
    "            moves_graduation_counter[move_count] = moves_graduation_counter[move_count] + 1;\n",
    "    return moves_graduation_counter"
   ]
  },
  {
   "cell_type": "code",
   "execution_count": 143,
   "metadata": {
    "scrolled": true
   },
   "outputs": [
    {
     "data": {
      "image/png": "[encoded data removed]",
      "text/plain": [
       "<Figure size 432x288 with 1 Axes>"
      ]
     },
     "metadata": {
      "needs_background": "light"
     },
     "output_type": "display_data"
    }
   ],
   "source": [
    "# moves number in a game \n",
    "import numpy as np\n",
    "import matplotlib.pyplot as plt\n",
    "\n",
    "# get data\n",
    "dict_moves_count = get_number_of_games_with_moves_number(filter_players(player_moves_count))\n",
    "\n",
    "height = dict_moves_count.values()\n",
    "bars = dict_moves_count.keys()\n",
    "\n",
    "y_pos = np.arange(len(bars))\n",
    " \n",
    "# Create bars\n",
    "plt.bar(y_pos, height)\n",
    " \n",
    "# Create names on the x-axis\n",
    "plt.xticks(y_pos, bars)\n",
    " \n",
    "# Show graphic\n",
    "plt.show()"
   ]
  }
 ],
 "metadata": {
  "kernelspec": {
   "display_name": "Python 3",
   "language": "python",
   "name": "python3"
  },
  "language_info": {
   "codemirror_mode": {
    "name": "ipython",
    "version": 3
   },
   "file_extension": ".py",
   "mimetype": "text/x-python",
   "name": "python",
   "nbconvert_exporter": "python",
   "pygments_lexer": "ipython3",
   "version": "3.8.5"
  }
 },
 "nbformat": 4,
 "nbformat_minor": 4
}
