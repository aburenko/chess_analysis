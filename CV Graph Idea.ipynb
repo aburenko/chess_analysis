{
 "cells": [
  {
   "cell_type": "code",
   "execution_count": 6,
   "metadata": {},
   "outputs": [],
   "source": [
    "import seaborn as sns\n",
    "import matplotlib.pyplot as plt\n",
    "import numpy as np\n",
    "from datetime import datetime\n",
    "from matplotlib.pyplot import figure\n",
    "import matplotlib.dates as mdates"
   ]
  },
  {
   "cell_type": "markdown",
   "metadata": {},
   "source": [
    "Plot my education and studies in one graph\n",
    "\n",
    "Plot title could be \"Data visualization is like netflix, but with python\""
   ]
  },
  {
   "cell_type": "code",
   "execution_count": 55,
   "metadata": {
    "scrolled": false
   },
   "outputs": [
    {
     "data": {
      "image/png": "[encoded data removed]",
      "text/plain": [
       "<Figure size 576x288 with 1 Axes>"
      ]
     },
     "metadata": {},
     "output_type": "display_data"
    }
   ],
   "source": [
    "events = [\n",
    "    {\"date\" : datetime(2005, 5, 1), \"event\" : \"first event\"},\n",
    "    {\"date\" : datetime(2010, 5, 1), \"event\" : \"second event\"},\n",
    "    {\"date\" : datetime(2018, 5, 1), \"event\" : \"third event\"}\n",
    "]\n",
    "\n",
    "# using some dummy data for x axis and year for y\n",
    "entry_number = len(events)\n",
    "xs = range(entry_number)\n",
    "ys = [e['date'] for e in events]\n",
    "\n",
    "# formatter for compatibility of y axis with date formatter\n",
    "axis = plt.gca()\n",
    "# formatter = mdates.DateFormatter(\"%Y-%m\")\n",
    "# axis.yaxis.set_major_formatter(formatter)\n",
    "# locator = mdates.DayLocator()\n",
    "# axis.yaxis.set_major_locator(locator)\n",
    "# remove x axis labels\n",
    "axis.axes.get_xaxis().set_visible(False)\n",
    "\n",
    "# make it long!\n",
    "sns.set(rc={'figure.figsize':(8, 4)})\n",
    "# plot\n",
    "sns.lineplot(x=xs, y=ys, ax=axis, linewidth=2)\n",
    "\n",
    "for index, e in enumerate(events):\n",
    "    plt.text(index, e['date'], e['event'], horizontalalignment='left')"
   ]
  },
  {
   "cell_type": "code",
   "execution_count": 53,
   "metadata": {},
   "outputs": [
    {
     "name": "stdout",
     "output_type": "stream",
     "text": [
      "(0, {'date': datetime.datetime(2005, 5, 1, 0, 0), 'event': 'first event'})\n",
      "(1, {'date': datetime.datetime(2010, 5, 1, 0, 0), 'event': 'second event'})\n",
      "(2, {'date': datetime.datetime(2018, 5, 1, 0, 0), 'event': 'third event'})\n"
     ]
    }
   ],
   "source": [
    "for x in enumerate(events):\n",
    "    print(x)"
   ]
  }
 ],
 "metadata": {
  "kernelspec": {
   "display_name": "Python 3",
   "language": "python",
   "name": "python3"
  },
  "language_info": {
   "codemirror_mode": {
    "name": "ipython",
    "version": 3
   },
   "file_extension": ".py",
   "mimetype": "text/x-python",
   "name": "python",
   "nbconvert_exporter": "python",
   "pygments_lexer": "ipython3",
   "version": "3.8.5"
  },
  "toc": {
   "base_numbering": 1,
   "nav_menu": {},
   "number_sections": true,
   "sideBar": true,
   "skip_h1_title": false,
   "title_cell": "Table of Contents",
   "title_sidebar": "Contents",
   "toc_cell": false,
   "toc_position": {},
   "toc_section_display": true,
   "toc_window_display": false
  }
 },
 "nbformat": 4,
 "nbformat_minor": 4
}
